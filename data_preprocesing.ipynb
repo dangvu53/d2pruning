{
 "cells": [
  {
   "cell_type": "code",
   "execution_count": 22,
   "id": "8432a5a8",
   "metadata": {},
   "outputs": [
    {
     "data": {
      "application/vnd.jupyter.widget-view+json": {
       "model_id": "7f66476961c64b53acac41d5a4352368",
       "version_major": 2,
       "version_minor": 0
      },
      "text/plain": [
       "README.md:   0%|          | 0.00/9.98k [00:00<?, ?B/s]"
      ]
     },
     "metadata": {},
     "output_type": "display_data"
    },
    {
     "data": {
      "application/vnd.jupyter.widget-view+json": {
       "model_id": "55a05ebe9c2d47f9b81e5c6366d4522d",
       "version_major": 2,
       "version_minor": 0
      },
      "text/plain": [
       "train-00000-of-00001.parquet:   0%|          | 0.00/119M [00:00<?, ?B/s]"
      ]
     },
     "metadata": {},
     "output_type": "display_data"
    },
    {
     "data": {
      "application/vnd.jupyter.widget-view+json": {
       "model_id": "0992dd48129643ebb01bd2f980b65ce4",
       "version_major": 2,
       "version_minor": 0
      },
      "text/plain": [
       "test-00000-of-00001.parquet:   0%|          | 0.00/23.8M [00:00<?, ?B/s]"
      ]
     },
     "metadata": {},
     "output_type": "display_data"
    },
    {
     "data": {
      "application/vnd.jupyter.widget-view+json": {
       "model_id": "f248f1a3372649238f380b441e89c09b",
       "version_major": 2,
       "version_minor": 0
      },
      "text/plain": [
       "Generating train split:   0%|          | 0/50000 [00:00<?, ? examples/s]"
      ]
     },
     "metadata": {},
     "output_type": "display_data"
    },
    {
     "data": {
      "application/vnd.jupyter.widget-view+json": {
       "model_id": "236758cb670341cdafbd71383e8478bc",
       "version_major": 2,
       "version_minor": 0
      },
      "text/plain": [
       "Generating test split:   0%|          | 0/10000 [00:00<?, ? examples/s]"
      ]
     },
     "metadata": {},
     "output_type": "display_data"
    },
    {
     "name": "stdout",
     "output_type": "stream",
     "text": [
      "1\n"
     ]
    }
   ],
   "source": [
    "from datasets import load_dataset\n",
    "\n",
    "ds = load_dataset(\"uoft-cs/cifar100\")\n",
    "print(1)"
   ]
  },
  {
   "cell_type": "code",
   "execution_count": 23,
   "id": "093cada7",
   "metadata": {},
   "outputs": [],
   "source": [
    "train_dataset = ds['train'].shuffle(seed=42).select(range(2000)) \n",
    "test_dataset = ds['test'].shuffle(seed=42).select(range(1000))"
   ]
  },
  {
   "cell_type": "code",
   "execution_count": 2,
   "id": "9eab200d",
   "metadata": {},
   "outputs": [],
   "source": [
    "from datasets import load_dataset, Dataset\n",
    "from collections import defaultdict\n",
    "import random\n",
    "\n",
    "# Load AG News dataset\n",
    "dataset = load_dataset(\"sh0416/ag_news\", split=\"test\")\n",
    "\n",
    "# Khởi tạo dict để lưu từng label\n",
    "label_to_samples = defaultdict(list)\n",
    "\n",
    "# Gom mẫu theo label\n",
    "for example in dataset:\n",
    "    label_to_samples[example[\"label\"]].append(example)\n",
    "\n",
    "# Chọn 750 mẫu cho mỗi class (vì 4 class x 750 = 3000)\n",
    "samples_per_class = 1000 // 4\n",
    "balanced_samples = []\n",
    "\n",
    "for label, samples in label_to_samples.items():\n",
    "    random.shuffle(samples)\n",
    "    balanced_samples.extend(samples[:samples_per_class])\n",
    "\n",
    "# Shuffle toàn bộ lại\n",
    "random.shuffle(balanced_samples)\n",
    "\n",
    "# Tạo Hugging Face Dataset\n",
    "test_dataset = Dataset.from_list(balanced_samples)\n"
   ]
  },
  {
   "cell_type": "code",
   "execution_count": 3,
   "id": "1ea8061d",
   "metadata": {},
   "outputs": [
    {
     "name": "stdout",
     "output_type": "stream",
     "text": [
      "6000\n",
      "1000\n",
      "{'label': 2, 'title': 'Eagles QB Donovan McNabb is more relaxed, confident in pocket', 'description': 'CLEVELAND -- On draft day 1999, the Browns picked Tim Couch with the No. 1 pick. The Eagles selected Donovan McNabb at No. 2. You hate to oversimplify things, but since then, Cleveland is 28-58, Philadelphia is 57-29.'}\n"
     ]
    }
   ],
   "source": [
    "print(len(train_dataset)) \n",
    "print(len(test_dataset))\n",
    "#print(len(dev_dataset))\n",
    "print(train_dataset[0])"
   ]
  },
  {
   "cell_type": "code",
   "execution_count": 4,
   "id": "273483e5",
   "metadata": {},
   "outputs": [
    {
     "name": "stdout",
     "output_type": "stream",
     "text": [
      "Train distribution: Counter({2: 1500, 4: 1500, 3: 1500, 1: 1500})\n",
      "Test distribution: Counter({2: 250, 3: 250, 4: 250, 1: 250})\n"
     ]
    }
   ],
   "source": [
    "from collections import Counter\n",
    "\n",
    "print(\"Train distribution:\", Counter(train_dataset['label']))\n",
    "print(\"Test distribution:\", Counter(test_dataset['label']))\n"
   ]
  },
  {
   "cell_type": "code",
   "execution_count": 5,
   "id": "6672196c",
   "metadata": {},
   "outputs": [
    {
     "data": {
      "application/vnd.jupyter.widget-view+json": {
       "model_id": "a8f2276d20484636bd108c267c57c007",
       "version_major": 2,
       "version_minor": 0
      },
      "text/plain": [
       "VBox(children=(HTML(value='<center> <img\\nsrc=https://huggingface.co/front/assets/huggingface_logo-noborder.sv…"
      ]
     },
     "metadata": {},
     "output_type": "display_data"
    }
   ],
   "source": [
    "from huggingface_hub import notebook_login\n",
    "\n",
    "notebook_login()"
   ]
  },
  {
   "cell_type": "code",
   "execution_count": 6,
   "id": "a5635838",
   "metadata": {},
   "outputs": [],
   "source": [
    "from datasets import DatasetDict\n",
    "\n",
    "ds = DatasetDict({\n",
    "    \"train\": train_dataset,\n",
    "    #\"dev\": dev_dataset,\n",
    "    \"test\": test_dataset\n",
    "})"
   ]
  },
  {
   "cell_type": "code",
   "execution_count": 7,
   "id": "61bf6707",
   "metadata": {},
   "outputs": [
    {
     "data": {
      "application/vnd.jupyter.widget-view+json": {
       "model_id": "b31f6bf8cbb84cb8bb630ef7f4adacdd",
       "version_major": 2,
       "version_minor": 0
      },
      "text/plain": [
       "Uploading the dataset shards:   0%|          | 0/1 [00:00<?, ?it/s]"
      ]
     },
     "metadata": {},
     "output_type": "display_data"
    },
    {
     "data": {
      "application/vnd.jupyter.widget-view+json": {
       "model_id": "eecc10337d6745f5b159a9e5713c75b0",
       "version_major": 2,
       "version_minor": 0
      },
      "text/plain": [
       "Creating parquet from Arrow format:   0%|          | 0/6 [00:00<?, ?ba/s]"
      ]
     },
     "metadata": {},
     "output_type": "display_data"
    },
    {
     "data": {
      "application/vnd.jupyter.widget-view+json": {
       "model_id": "8467f68e62dc4c7bbcfa6cc1fe2f7a03",
       "version_major": 2,
       "version_minor": 0
      },
      "text/plain": [
       "Uploading the dataset shards:   0%|          | 0/1 [00:00<?, ?it/s]"
      ]
     },
     "metadata": {},
     "output_type": "display_data"
    },
    {
     "data": {
      "application/vnd.jupyter.widget-view+json": {
       "model_id": "1db2fd9f50b84c968c39a5b91c7d479c",
       "version_major": 2,
       "version_minor": 0
      },
      "text/plain": [
       "Creating parquet from Arrow format:   0%|          | 0/1 [00:00<?, ?ba/s]"
      ]
     },
     "metadata": {},
     "output_type": "display_data"
    },
    {
     "data": {
      "text/plain": [
       "CommitInfo(commit_url='https://huggingface.co/datasets/goddawg/agnews-6k/commit/0163b1b762e4feb2fcc5b09b7924bb4b500563b7', commit_message='Upload dataset', commit_description='', oid='0163b1b762e4feb2fcc5b09b7924bb4b500563b7', pr_url=None, repo_url=RepoUrl('https://huggingface.co/datasets/goddawg/agnews-6k', endpoint='https://huggingface.co', repo_type='dataset', repo_id='goddawg/agnews-6k'), pr_revision=None, pr_num=None)"
      ]
     },
     "execution_count": 7,
     "metadata": {},
     "output_type": "execute_result"
    }
   ],
   "source": [
    "ds.push_to_hub(\"goddawg/agnews-6k\")"
   ]
  },
  {
   "cell_type": "code",
   "execution_count": null,
   "id": "0d1bbd64",
   "metadata": {},
   "outputs": [],
   "source": []
  }
 ],
 "metadata": {
  "kernelspec": {
   "display_name": "env",
   "language": "python",
   "name": "python3"
  },
  "language_info": {
   "codemirror_mode": {
    "name": "ipython",
    "version": 3
   },
   "file_extension": ".py",
   "mimetype": "text/x-python",
   "name": "python",
   "nbconvert_exporter": "python",
   "pygments_lexer": "ipython3",
   "version": "3.11.0"
  }
 },
 "nbformat": 4,
 "nbformat_minor": 5
}
