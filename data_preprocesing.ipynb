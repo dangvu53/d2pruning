{
 "cells": [
  {
   "cell_type": "code",
   "execution_count": 22,
   "id": "8432a5a8",
   "metadata": {},
   "outputs": [
    {
     "data": {
      "application/vnd.jupyter.widget-view+json": {
       "model_id": "7f66476961c64b53acac41d5a4352368",
       "version_major": 2,
       "version_minor": 0
      },
      "text/plain": [
       "README.md:   0%|          | 0.00/9.98k [00:00<?, ?B/s]"
      ]
     },
     "metadata": {},
     "output_type": "display_data"
    },
    {
     "data": {
      "application/vnd.jupyter.widget-view+json": {
       "model_id": "55a05ebe9c2d47f9b81e5c6366d4522d",
       "version_major": 2,
       "version_minor": 0
      },
      "text/plain": [
       "train-00000-of-00001.parquet:   0%|          | 0.00/119M [00:00<?, ?B/s]"
      ]
     },
     "metadata": {},
     "output_type": "display_data"
    },
    {
     "data": {
      "application/vnd.jupyter.widget-view+json": {
       "model_id": "0992dd48129643ebb01bd2f980b65ce4",
       "version_major": 2,
       "version_minor": 0
      },
      "text/plain": [
       "test-00000-of-00001.parquet:   0%|          | 0.00/23.8M [00:00<?, ?B/s]"
      ]
     },
     "metadata": {},
     "output_type": "display_data"
    },
    {
     "data": {
      "application/vnd.jupyter.widget-view+json": {
       "model_id": "f248f1a3372649238f380b441e89c09b",
       "version_major": 2,
       "version_minor": 0
      },
      "text/plain": [
       "Generating train split:   0%|          | 0/50000 [00:00<?, ? examples/s]"
      ]
     },
     "metadata": {},
     "output_type": "display_data"
    },
    {
     "data": {
      "application/vnd.jupyter.widget-view+json": {
       "model_id": "236758cb670341cdafbd71383e8478bc",
       "version_major": 2,
       "version_minor": 0
      },
      "text/plain": [
       "Generating test split:   0%|          | 0/10000 [00:00<?, ? examples/s]"
      ]
     },
     "metadata": {},
     "output_type": "display_data"
    },
    {
     "name": "stdout",
     "output_type": "stream",
     "text": [
      "1\n"
     ]
    }
   ],
   "source": [
    "from datasets import load_dataset\n",
    "\n",
    "ds = load_dataset(\"uoft-cs/cifar100\")\n",
    "print(1)"
   ]
  },
  {
   "cell_type": "code",
   "execution_count": 23,
   "id": "093cada7",
   "metadata": {},
   "outputs": [],
   "source": [
    "train_dataset = ds['train'].shuffle(seed=42).select(range(2000)) \n",
    "test_dataset = ds['test'].shuffle(seed=42).select(range(1000))"
   ]
  },
  {
   "cell_type": "code",
   "execution_count": 56,
   "id": "9eab200d",
   "metadata": {},
   "outputs": [],
   "source": [
    "from datasets import load_dataset, Dataset\n",
    "from collections import defaultdict\n",
    "import random\n",
    "\n",
    "# Load AG News dataset\n",
    "dataset = load_dataset(\"zh-plus/tiny-imagenet\", split=\"valid\")  # 120k mẫu\n",
    "\n",
    "# Khởi tạo dict để lưu từng label\n",
    "label_to_samples = defaultdict(list)\n",
    "\n",
    "# Gom mẫu theo label\n",
    "for example in dataset:\n",
    "    label_to_samples[example[\"label\"]].append(example)\n",
    "\n",
    "# Chọn 750 mẫu cho mỗi class (vì 4 class x 750 = 3000)\n",
    "samples_per_class = 1000 // 200\n",
    "balanced_samples = []\n",
    "\n",
    "for label, samples in label_to_samples.items():\n",
    "    random.shuffle(samples)\n",
    "    balanced_samples.extend(samples[:samples_per_class])\n",
    "\n",
    "# Shuffle toàn bộ lại\n",
    "random.shuffle(balanced_samples)\n",
    "\n",
    "# Tạo Hugging Face Dataset\n",
    "test_dataset = Dataset.from_list(balanced_samples)\n"
   ]
  },
  {
   "cell_type": "code",
   "execution_count": 54,
   "id": "1ea8061d",
   "metadata": {},
   "outputs": [
    {
     "name": "stdout",
     "output_type": "stream",
     "text": [
      "2000\n",
      "1000\n",
      "{'image': <PIL.JpegImagePlugin.JpegImageFile image mode=RGB size=64x64 at 0x28FDB069490>, 'label': 173}\n"
     ]
    }
   ],
   "source": [
    "print(len(train_dataset)) \n",
    "print(len(test_dataset))\n",
    "#print(len(dev_dataset))\n",
    "print(train_dataset[0])"
   ]
  },
  {
   "cell_type": "code",
   "execution_count": 55,
   "id": "273483e5",
   "metadata": {},
   "outputs": [
    {
     "name": "stdout",
     "output_type": "stream",
     "text": [
      "Train distribution: Counter({173: 10, 135: 10, 104: 10, 98: 10, 102: 10, 168: 10, 130: 10, 138: 10, 142: 10, 34: 10, 172: 10, 50: 10, 191: 10, 31: 10, 188: 10, 27: 10, 36: 10, 167: 10, 177: 10, 75: 10, 145: 10, 67: 10, 77: 10, 99: 10, 30: 10, 32: 10, 78: 10, 182: 10, 113: 10, 84: 10, 116: 10, 146: 10, 117: 10, 124: 10, 3: 10, 49: 10, 8: 10, 21: 10, 63: 10, 164: 10, 118: 10, 48: 10, 156: 10, 196: 10, 119: 10, 128: 10, 171: 10, 24: 10, 166: 10, 147: 10, 193: 10, 59: 10, 103: 10, 141: 10, 169: 10, 57: 10, 161: 10, 4: 10, 178: 10, 89: 10, 29: 10, 2: 10, 179: 10, 181: 10, 158: 10, 44: 10, 162: 10, 125: 10, 120: 10, 106: 10, 65: 10, 87: 10, 129: 10, 20: 10, 100: 10, 198: 10, 1: 10, 41: 10, 80: 10, 94: 10, 60: 10, 79: 10, 38: 10, 122: 10, 176: 10, 22: 10, 82: 10, 150: 10, 121: 10, 144: 10, 97: 10, 195: 10, 131: 10, 134: 10, 70: 10, 160: 10, 127: 10, 17: 10, 19: 10, 33: 10, 71: 10, 39: 10, 56: 10, 66: 10, 115: 10, 189: 10, 184: 10, 111: 10, 112: 10, 197: 10, 35: 10, 61: 10, 159: 10, 175: 10, 28: 10, 136: 10, 64: 10, 96: 10, 109: 10, 14: 10, 101: 10, 81: 10, 10: 10, 76: 10, 170: 10, 15: 10, 9: 10, 199: 10, 137: 10, 95: 10, 110: 10, 86: 10, 151: 10, 183: 10, 54: 10, 192: 10, 163: 10, 194: 10, 180: 10, 157: 10, 47: 10, 88: 10, 155: 10, 139: 10, 69: 10, 11: 10, 26: 10, 92: 10, 46: 10, 16: 10, 93: 10, 13: 10, 25: 10, 140: 10, 85: 10, 62: 10, 91: 10, 174: 10, 6: 10, 40: 10, 37: 10, 74: 10, 123: 10, 52: 10, 126: 10, 187: 10, 153: 10, 42: 10, 23: 10, 90: 10, 5: 10, 165: 10, 12: 10, 132: 10, 105: 10, 73: 10, 68: 10, 51: 10, 149: 10, 55: 10, 143: 10, 43: 10, 152: 10, 154: 10, 18: 10, 7: 10, 114: 10, 185: 10, 0: 10, 133: 10, 108: 10, 186: 10, 45: 10, 72: 10, 58: 10, 83: 10, 148: 10, 107: 10, 190: 10, 53: 10})\n",
      "Test distribution: Counter({166: 5, 146: 5, 136: 5, 100: 5, 155: 5, 60: 5, 195: 5, 186: 5, 134: 5, 133: 5, 72: 5, 44: 5, 173: 5, 68: 5, 16: 5, 168: 5, 180: 5, 25: 5, 130: 5, 106: 5, 172: 5, 154: 5, 82: 5, 21: 5, 90: 5, 24: 5, 108: 5, 65: 5, 32: 5, 143: 5, 131: 5, 43: 5, 46: 5, 197: 5, 127: 5, 70: 5, 78: 5, 76: 5, 139: 5, 87: 5, 93: 5, 56: 5, 160: 5, 91: 5, 61: 5, 125: 5, 183: 5, 1: 5, 52: 5, 55: 5, 62: 5, 119: 5, 81: 5, 10: 5, 145: 5, 190: 5, 105: 5, 151: 5, 112: 5, 41: 5, 116: 5, 27: 5, 33: 5, 144: 5, 120: 5, 191: 5, 59: 5, 157: 5, 3: 5, 104: 5, 66: 5, 175: 5, 67: 5, 194: 5, 28: 5, 58: 5, 40: 5, 48: 5, 153: 5, 185: 5, 15: 5, 95: 5, 137: 5, 193: 5, 109: 5, 176: 5, 187: 5, 147: 5, 152: 5, 64: 5, 35: 5, 128: 5, 38: 5, 80: 5, 12: 5, 94: 5, 49: 5, 4: 5, 163: 5, 188: 5, 118: 5, 75: 5, 11: 5, 77: 5, 22: 5, 114: 5, 162: 5, 117: 5, 14: 5, 164: 5, 126: 5, 19: 5, 34: 5, 97: 5, 0: 5, 17: 5, 149: 5, 5: 5, 141: 5, 96: 5, 89: 5, 37: 5, 159: 5, 196: 5, 83: 5, 158: 5, 165: 5, 167: 5, 111: 5, 71: 5, 178: 5, 198: 5, 148: 5, 85: 5, 2: 5, 101: 5, 102: 5, 122: 5, 110: 5, 36: 5, 103: 5, 150: 5, 8: 5, 74: 5, 79: 5, 13: 5, 20: 5, 123: 5, 86: 5, 107: 5, 9: 5, 30: 5, 182: 5, 99: 5, 132: 5, 115: 5, 39: 5, 31: 5, 124: 5, 192: 5, 45: 5, 50: 5, 189: 5, 177: 5, 98: 5, 18: 5, 73: 5, 26: 5, 57: 5, 138: 5, 42: 5, 84: 5, 29: 5, 69: 5, 171: 5, 47: 5, 161: 5, 113: 5, 142: 5, 63: 5, 23: 5, 92: 5, 174: 5, 140: 5, 53: 5, 179: 5, 121: 5, 199: 5, 184: 5, 6: 5, 129: 5, 156: 5, 170: 5, 88: 5, 51: 5, 169: 5, 135: 5, 54: 5, 181: 5, 7: 5})\n"
     ]
    }
   ],
   "source": [
    "from collections import Counter\n",
    "\n",
    "print(\"Train distribution:\", Counter(train_dataset['label']))\n",
    "print(\"Test distribution:\", Counter(test_dataset['label']))\n"
   ]
  },
  {
   "cell_type": "code",
   "execution_count": 7,
   "id": "6672196c",
   "metadata": {},
   "outputs": [
    {
     "data": {
      "application/vnd.jupyter.widget-view+json": {
       "model_id": "fe5ed3251e8c4fadbd6b241c1b5ba384",
       "version_major": 2,
       "version_minor": 0
      },
      "text/plain": [
       "VBox(children=(HTML(value='<center> <img\\nsrc=https://huggingface.co/front/assets/huggingface_logo-noborder.sv…"
      ]
     },
     "metadata": {},
     "output_type": "display_data"
    }
   ],
   "source": [
    "from huggingface_hub import notebook_login\n",
    "\n",
    "notebook_login()"
   ]
  },
  {
   "cell_type": "code",
   "execution_count": 57,
   "id": "a5635838",
   "metadata": {},
   "outputs": [],
   "source": [
    "from datasets import DatasetDict\n",
    "\n",
    "ds = DatasetDict({\n",
    "    \"train\": train_dataset,\n",
    "    #\"dev\": dev_dataset,\n",
    "    \"valid\": test_dataset\n",
    "})"
   ]
  },
  {
   "cell_type": "code",
   "execution_count": 58,
   "id": "61bf6707",
   "metadata": {},
   "outputs": [
    {
     "data": {
      "application/vnd.jupyter.widget-view+json": {
       "model_id": "c07dd37811304f0cb5afb61624c233d2",
       "version_major": 2,
       "version_minor": 0
      },
      "text/plain": [
       "Uploading the dataset shards:   0%|          | 0/1 [00:00<?, ?it/s]"
      ]
     },
     "metadata": {},
     "output_type": "display_data"
    },
    {
     "data": {
      "application/vnd.jupyter.widget-view+json": {
       "model_id": "184dfcd6ed7a44b988703c90dd3b87bd",
       "version_major": 2,
       "version_minor": 0
      },
      "text/plain": [
       "Map:   0%|          | 0/2000 [00:00<?, ? examples/s]"
      ]
     },
     "metadata": {},
     "output_type": "display_data"
    },
    {
     "data": {
      "application/vnd.jupyter.widget-view+json": {
       "model_id": "63831ad63df64ee284f59ff8d01be076",
       "version_major": 2,
       "version_minor": 0
      },
      "text/plain": [
       "Creating parquet from Arrow format:   0%|          | 0/20 [00:00<?, ?ba/s]"
      ]
     },
     "metadata": {},
     "output_type": "display_data"
    },
    {
     "data": {
      "application/vnd.jupyter.widget-view+json": {
       "model_id": "9e5d2676275d4230a281c8fc41e58090",
       "version_major": 2,
       "version_minor": 0
      },
      "text/plain": [
       "Uploading the dataset shards:   0%|          | 0/1 [00:00<?, ?it/s]"
      ]
     },
     "metadata": {},
     "output_type": "display_data"
    },
    {
     "data": {
      "application/vnd.jupyter.widget-view+json": {
       "model_id": "67fa076c6ef54e91adc2da34c4bfeb8c",
       "version_major": 2,
       "version_minor": 0
      },
      "text/plain": [
       "Map:   0%|          | 0/1000 [00:00<?, ? examples/s]"
      ]
     },
     "metadata": {},
     "output_type": "display_data"
    },
    {
     "data": {
      "application/vnd.jupyter.widget-view+json": {
       "model_id": "5c105a275f3e4636957c69e9bdd7cc9b",
       "version_major": 2,
       "version_minor": 0
      },
      "text/plain": [
       "Creating parquet from Arrow format:   0%|          | 0/10 [00:00<?, ?ba/s]"
      ]
     },
     "metadata": {},
     "output_type": "display_data"
    },
    {
     "data": {
      "text/plain": [
       "CommitInfo(commit_url='https://huggingface.co/datasets/goddawg/tiny-imagenet-2k/commit/999f738aa3024dd397c69c43c13c28a02e36fa97', commit_message='Upload dataset', commit_description='', oid='999f738aa3024dd397c69c43c13c28a02e36fa97', pr_url=None, repo_url=RepoUrl('https://huggingface.co/datasets/goddawg/tiny-imagenet-2k', endpoint='https://huggingface.co', repo_type='dataset', repo_id='goddawg/tiny-imagenet-2k'), pr_revision=None, pr_num=None)"
      ]
     },
     "execution_count": 58,
     "metadata": {},
     "output_type": "execute_result"
    }
   ],
   "source": [
    "ds.push_to_hub(\"goddawg/tiny-imagenet-2k\")"
   ]
  },
  {
   "cell_type": "code",
   "execution_count": null,
   "id": "a1f459d4",
   "metadata": {},
   "outputs": [],
   "source": []
  }
 ],
 "metadata": {
  "kernelspec": {
   "display_name": "env",
   "language": "python",
   "name": "python3"
  },
  "language_info": {
   "codemirror_mode": {
    "name": "ipython",
    "version": 3
   },
   "file_extension": ".py",
   "mimetype": "text/x-python",
   "name": "python",
   "nbconvert_exporter": "python",
   "pygments_lexer": "ipython3",
   "version": "3.11.0"
  }
 },
 "nbformat": 4,
 "nbformat_minor": 5
}
