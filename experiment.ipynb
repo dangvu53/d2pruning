{
 "cells": [
  {
   "cell_type": "code",
   "execution_count": null,
   "id": "f6bd4481",
   "metadata": {},
   "outputs": [
    {
     "name": "stdout",
     "output_type": "stream",
     "text": [
      "Collecting evaluate\n",
      "  Downloading evaluate-0.4.3-py3-none-any.whl.metadata (9.2 kB)\n",
      "Requirement already satisfied: datasets>=2.0.0 in d:\\research\\d2pruning\\env\\lib\\site-packages (from evaluate) (3.6.0)\n",
      "Requirement already satisfied: numpy>=1.17 in d:\\research\\d2pruning\\env\\lib\\site-packages (from evaluate) (2.3.0)\n",
      "Requirement already satisfied: dill in d:\\research\\d2pruning\\env\\lib\\site-packages (from evaluate) (0.3.8)\n",
      "Requirement already satisfied: pandas in d:\\research\\d2pruning\\env\\lib\\site-packages (from evaluate) (2.3.0)\n",
      "Requirement already satisfied: requests>=2.19.0 in d:\\research\\d2pruning\\env\\lib\\site-packages (from evaluate) (2.32.4)\n",
      "Requirement already satisfied: tqdm>=4.62.1 in d:\\research\\d2pruning\\env\\lib\\site-packages (from evaluate) (4.67.1)\n",
      "Requirement already satisfied: xxhash in d:\\research\\d2pruning\\env\\lib\\site-packages (from evaluate) (3.5.0)\n",
      "Requirement already satisfied: multiprocess in d:\\research\\d2pruning\\env\\lib\\site-packages (from evaluate) (0.70.16)\n",
      "Requirement already satisfied: fsspec>=2021.05.0 in d:\\research\\d2pruning\\env\\lib\\site-packages (from fsspec[http]>=2021.05.0->evaluate) (2025.3.0)\n",
      "Requirement already satisfied: huggingface-hub>=0.7.0 in d:\\research\\d2pruning\\env\\lib\\site-packages (from evaluate) (0.32.4)\n",
      "Requirement already satisfied: packaging in d:\\research\\d2pruning\\env\\lib\\site-packages (from evaluate) (25.0)\n",
      "Requirement already satisfied: filelock in d:\\research\\d2pruning\\env\\lib\\site-packages (from datasets>=2.0.0->evaluate) (3.18.0)\n",
      "Requirement already satisfied: pyarrow>=15.0.0 in d:\\research\\d2pruning\\env\\lib\\site-packages (from datasets>=2.0.0->evaluate) (20.0.0)\n",
      "Requirement already satisfied: pyyaml>=5.1 in d:\\research\\d2pruning\\env\\lib\\site-packages (from datasets>=2.0.0->evaluate) (6.0.2)\n",
      "Requirement already satisfied: aiohttp!=4.0.0a0,!=4.0.0a1 in d:\\research\\d2pruning\\env\\lib\\site-packages (from fsspec[http]>=2021.05.0->evaluate) (3.12.11)\n",
      "Requirement already satisfied: aiohappyeyeballs>=2.5.0 in d:\\research\\d2pruning\\env\\lib\\site-packages (from aiohttp!=4.0.0a0,!=4.0.0a1->fsspec[http]>=2021.05.0->evaluate) (2.6.1)\n",
      "Requirement already satisfied: aiosignal>=1.1.2 in d:\\research\\d2pruning\\env\\lib\\site-packages (from aiohttp!=4.0.0a0,!=4.0.0a1->fsspec[http]>=2021.05.0->evaluate) (1.3.2)\n",
      "Requirement already satisfied: attrs>=17.3.0 in d:\\research\\d2pruning\\env\\lib\\site-packages (from aiohttp!=4.0.0a0,!=4.0.0a1->fsspec[http]>=2021.05.0->evaluate) (25.3.0)\n",
      "Requirement already satisfied: frozenlist>=1.1.1 in d:\\research\\d2pruning\\env\\lib\\site-packages (from aiohttp!=4.0.0a0,!=4.0.0a1->fsspec[http]>=2021.05.0->evaluate) (1.7.0)\n",
      "Requirement already satisfied: multidict<7.0,>=4.5 in d:\\research\\d2pruning\\env\\lib\\site-packages (from aiohttp!=4.0.0a0,!=4.0.0a1->fsspec[http]>=2021.05.0->evaluate) (6.4.4)\n",
      "Requirement already satisfied: propcache>=0.2.0 in d:\\research\\d2pruning\\env\\lib\\site-packages (from aiohttp!=4.0.0a0,!=4.0.0a1->fsspec[http]>=2021.05.0->evaluate) (0.3.2)\n",
      "Requirement already satisfied: yarl<2.0,>=1.17.0 in d:\\research\\d2pruning\\env\\lib\\site-packages (from aiohttp!=4.0.0a0,!=4.0.0a1->fsspec[http]>=2021.05.0->evaluate) (1.20.1)\n",
      "Requirement already satisfied: idna>=2.0 in d:\\research\\d2pruning\\env\\lib\\site-packages (from yarl<2.0,>=1.17.0->aiohttp!=4.0.0a0,!=4.0.0a1->fsspec[http]>=2021.05.0->evaluate) (3.10)\n",
      "Requirement already satisfied: typing-extensions>=3.7.4.3 in d:\\research\\d2pruning\\env\\lib\\site-packages (from huggingface-hub>=0.7.0->evaluate) (4.14.0)\n",
      "Requirement already satisfied: charset_normalizer<4,>=2 in d:\\research\\d2pruning\\env\\lib\\site-packages (from requests>=2.19.0->evaluate) (3.4.2)\n",
      "Requirement already satisfied: urllib3<3,>=1.21.1 in d:\\research\\d2pruning\\env\\lib\\site-packages (from requests>=2.19.0->evaluate) (2.4.0)\n",
      "Requirement already satisfied: certifi>=2017.4.17 in d:\\research\\d2pruning\\env\\lib\\site-packages (from requests>=2.19.0->evaluate) (2025.4.26)\n",
      "Requirement already satisfied: colorama in d:\\research\\d2pruning\\env\\lib\\site-packages (from tqdm>=4.62.1->evaluate) (0.4.6)\n",
      "Requirement already satisfied: python-dateutil>=2.8.2 in d:\\research\\d2pruning\\env\\lib\\site-packages (from pandas->evaluate) (2.9.0.post0)\n",
      "Requirement already satisfied: pytz>=2020.1 in d:\\research\\d2pruning\\env\\lib\\site-packages (from pandas->evaluate) (2025.2)\n",
      "Requirement already satisfied: tzdata>=2022.7 in d:\\research\\d2pruning\\env\\lib\\site-packages (from pandas->evaluate) (2025.2)\n",
      "Requirement already satisfied: six>=1.5 in d:\\research\\d2pruning\\env\\lib\\site-packages (from python-dateutil>=2.8.2->pandas->evaluate) (1.17.0)\n",
      "Downloading evaluate-0.4.3-py3-none-any.whl (84 kB)\n",
      "Installing collected packages: evaluate\n",
      "Successfully installed evaluate-0.4.3\n"
     ]
    }
   ],
   "source": [
    "# Install evaluate library for load_metric function\n",
    "%pip install evaluate"
   ]
  },
  {
   "cell_type": "code",
   "execution_count": null,
   "id": "919ad982",
   "metadata": {},
   "outputs": [
    {
     "name": "stdout",
     "output_type": "stream",
     "text": [
      "Requirement already satisfied: accelerate in d:\\research\\d2pruning\\env\\lib\\site-packages (1.7.0)\n",
      "Requirement already satisfied: numpy<3.0.0,>=1.17 in d:\\research\\d2pruning\\env\\lib\\site-packages (from accelerate) (2.3.0)\n",
      "Requirement already satisfied: packaging>=20.0 in d:\\research\\d2pruning\\env\\lib\\site-packages (from accelerate) (25.0)\n",
      "Requirement already satisfied: psutil in d:\\research\\d2pruning\\env\\lib\\site-packages (from accelerate) (7.0.0)\n",
      "Requirement already satisfied: pyyaml in d:\\research\\d2pruning\\env\\lib\\site-packages (from accelerate) (6.0.2)\n",
      "Requirement already satisfied: torch>=2.0.0 in d:\\research\\d2pruning\\env\\lib\\site-packages (from accelerate) (2.7.1)\n",
      "Requirement already satisfied: huggingface-hub>=0.21.0 in d:\\research\\d2pruning\\env\\lib\\site-packages (from accelerate) (0.32.4)\n",
      "Requirement already satisfied: safetensors>=0.4.3 in d:\\research\\d2pruning\\env\\lib\\site-packages (from accelerate) (0.5.3)\n",
      "Requirement already satisfied: filelock in d:\\research\\d2pruning\\env\\lib\\site-packages (from huggingface-hub>=0.21.0->accelerate) (3.18.0)\n",
      "Requirement already satisfied: fsspec>=2023.5.0 in d:\\research\\d2pruning\\env\\lib\\site-packages (from huggingface-hub>=0.21.0->accelerate) (2025.3.0)\n",
      "Requirement already satisfied: requests in d:\\research\\d2pruning\\env\\lib\\site-packages (from huggingface-hub>=0.21.0->accelerate) (2.32.4)\n",
      "Requirement already satisfied: tqdm>=4.42.1 in d:\\research\\d2pruning\\env\\lib\\site-packages (from huggingface-hub>=0.21.0->accelerate) (4.67.1)\n",
      "Requirement already satisfied: typing-extensions>=3.7.4.3 in d:\\research\\d2pruning\\env\\lib\\site-packages (from huggingface-hub>=0.21.0->accelerate) (4.14.0)\n",
      "Requirement already satisfied: sympy>=1.13.3 in d:\\research\\d2pruning\\env\\lib\\site-packages (from torch>=2.0.0->accelerate) (1.14.0)\n",
      "Requirement already satisfied: networkx in d:\\research\\d2pruning\\env\\lib\\site-packages (from torch>=2.0.0->accelerate) (3.5)\n",
      "Requirement already satisfied: jinja2 in d:\\research\\d2pruning\\env\\lib\\site-packages (from torch>=2.0.0->accelerate) (3.1.6)\n",
      "Requirement already satisfied: mpmath<1.4,>=1.1.0 in d:\\research\\d2pruning\\env\\lib\\site-packages (from sympy>=1.13.3->torch>=2.0.0->accelerate) (1.3.0)\n",
      "Requirement already satisfied: colorama in d:\\research\\d2pruning\\env\\lib\\site-packages (from tqdm>=4.42.1->huggingface-hub>=0.21.0->accelerate) (0.4.6)\n",
      "Requirement already satisfied: MarkupSafe>=2.0 in d:\\research\\d2pruning\\env\\lib\\site-packages (from jinja2->torch>=2.0.0->accelerate) (3.0.2)\n",
      "Requirement already satisfied: charset_normalizer<4,>=2 in d:\\research\\d2pruning\\env\\lib\\site-packages (from requests->huggingface-hub>=0.21.0->accelerate) (3.4.2)\n",
      "Requirement already satisfied: idna<4,>=2.5 in d:\\research\\d2pruning\\env\\lib\\site-packages (from requests->huggingface-hub>=0.21.0->accelerate) (3.10)\n",
      "Requirement already satisfied: urllib3<3,>=1.21.1 in d:\\research\\d2pruning\\env\\lib\\site-packages (from requests->huggingface-hub>=0.21.0->accelerate) (2.4.0)\n",
      "Requirement already satisfied: certifi>=2017.4.17 in d:\\research\\d2pruning\\env\\lib\\site-packages (from requests->huggingface-hub>=0.21.0->accelerate) (2025.4.26)\n"
     ]
    }
   ],
   "source": [
    "%pip install --upgrade accelerate"
   ]
  },
  {
   "cell_type": "markdown",
   "id": "6abf0b40",
   "metadata": {},
   "source": [
    "Run on ANLI-2k\n"
   ]
  },
  {
   "cell_type": "code",
   "execution_count": null,
   "id": "7547d078",
   "metadata": {},
   "outputs": [],
   "source": [
    "\"google/electra-small-discriminator\"\n",
    "\"FacebookAI/roberta-base\"\n",
    "\"google-bert/bert-base-uncased\""
   ]
  },
  {
   "cell_type": "markdown",
   "id": "4eb280e3",
   "metadata": {},
   "source": [
    "Train on full to get training dynamics"
   ]
  },
  {
   "cell_type": "code",
   "execution_count": null,
   "id": "a71668ef",
   "metadata": {},
   "outputs": [
    {
     "name": "stdout",
     "output_type": "stream",
     "text": [
      "^C\n"
     ]
    }
   ],
   "source": [
    "%cd d2pruning/\n",
    "!python train_nlp_explore.py \\\n",
    "    --task_name \"goddawg/anli-2k\" \\\n",
    "    --model_name_or_path \"google/electra-small-discriminator\" \\\n",
    "    --output_dir ./data-model/anli-2k/all-data \\\n",
    "    --do_train \\\n",
    "    --do_test \\\n",
    "    --train_logger \\\n",
    "    --num_train_epochs 10 \\\n",
    "    --per_device_train_batch_size 16 \\\n",
    "    --learning_rate 2e-5 \\\n",
    "    --max_length 256 \\\n",
    "    --val-index-path ./data-model/anli-2k/val_index.npy"
   ]
  },
  {
   "cell_type": "markdown",
   "id": "c38710cc",
   "metadata": {},
   "source": [
    "Save feature embeddings and importance scores"
   ]
  },
  {
   "cell_type": "code",
   "execution_count": null,
   "id": "6aec4363",
   "metadata": {},
   "outputs": [],
   "source": [
    "%cd d2pruning/\n",
    "!python train_nlp_explore.py \\\n",
    "    --task_name \"goddawg/anli-2k\" \\\n",
    "    --model_name_or_path roberta-base \\\n",
    "    --output_dir ./data-model/anli-2k/all-data \\\n",
    "    --do_eval \\\n",
    "    --eval_train \\\n",
    "    --save_feature \\\n",
    "    --save_confidence \\\n",
    "    --save_importance_scores \\\n",
    "    --training_dynamics \\\n",
    "    --per_device_eval_batch_size 16 \\\n",
    "    --max_length 256 \\\n",
    "    --val-index-path ./data-model/anli-2k/val_index.npy"
   ]
  },
  {
   "cell_type": "markdown",
   "id": "9288b5c3",
   "metadata": {
    "vscode": {
     "languageId": "shellscript"
    }
   },
   "source": [
    "Prun and train on 50% data"
   ]
  },
  {
   "cell_type": "code",
   "execution_count": null,
   "id": "459148a8",
   "metadata": {},
   "outputs": [],
   "source": [
    "CORESET_RATIO = 0.5\n",
    "N_NEIGHBOR = 10\n",
    "GAMMA = 0.1\n",
    "\n",
    "%cd d2pruning/\n",
    "!python train_nlp_explore.py \\\n",
    "    --task_name \"goddawg/anli-2k\" \\\n",
    "    --model_name_or_path roberta-base \\\n",
    "    --output_dir ./data-model/anli-2k/coreset-0.5 \\\n",
    "    --do_train \\\n",
    "    --do_test \\\n",
    "    --coreset \\\n",
    "    --coreset-mode class \\\n",
    "    --budget-mode uniform \\\n",
    "    --sampling-mode graph \\\n",
    "    --data-score-path ./data-model/anli-2k/all-data/data-score-goddawg.pickle \\\n",
    "    --feature-path ./data-model/anli-2k/all-data/train-features.npy \\\n",
    "    --coreset-key forgetting \\\n",
    "    --coreset-ratio {CORESET_RATIO} \\\n",
    "    --mis-ratio 0.4 \\\n",
    "    --label-balanced \\\n",
    "    --num_train_epochs 10 \\\n",
    "    --per_device_train_batch_size 32 \\\n",
    "    --learning_rate 2e-5 \\\n",
    "    --max_length 256 \\\n",
    "    --val-index-path ./data-model/anli-2k/val_index.npy \\\n",
    "    --n-neighbor {N_NEIGHBOR} \\\n",
    "    --gamma {GAMMA} \\\n",
    "    --graph-mode sum \\\n",
    "    --graph-sampling-mode weighted"
   ]
  },
  {
   "cell_type": "markdown",
   "id": "888302e0",
   "metadata": {},
   "source": [
    "Train D(Full data) and D'(50% coreset) on BERT base uncased"
   ]
  },
  {
   "cell_type": "code",
   "execution_count": null,
   "id": "176ff245",
   "metadata": {},
   "outputs": [],
   "source": [
    "%cd d2pruning/\n",
    "!python train_nlp_explore.py \\\n",
    "    --task_name \"goddawg/anli-2k\" \\\n",
    "    --model_name_or_path bert-base-uncased \\\n",
    "    --output_dir ./data-model/anli-2k/roberta_base/bert/ \\\n",
    "    --do_train \\\n",
    "    --do_test \\\n",
    "    --train_logger \\\n",
    "    --num_train_epochs 10 \\\n",
    "    --per_device_train_batch_size 16 \\\n",
    "    --learning_rate 2e-5 \\\n",
    "    --max_length 256 \\\n",
    "    --val-index-path ./data-model/anli-2k/val_index.npy"
   ]
  },
  {
   "cell_type": "code",
   "execution_count": null,
   "id": "fda05b9b",
   "metadata": {},
   "outputs": [],
   "source": [
    "%cd d2pruning/\n",
    "!python train_nlp_explore.py \\\n",
    "    --task_name \"goddawg/anli-2k\" \\\n",
    "    --model_name_or_path bert-base-uncased \\\n",
    "    --output_dir ./data-model/anli-2k/roberta_base/bert-50%/ \\\n",
    "    --do_train \\\n",
    "    --do_test \\\n",
    "    --train_logger \\\n",
    "    --num_train_epochs 10 \\\n",
    "    --per_device_train_batch_size 16 \\\n",
    "    --learning_rate 2e-5 \\\n",
    "    --max_length 256 \\\n",
    "    --val-index-path ./data-model/anli-2k/val_index.npy \\\n",
    "    --train-index-path ./data-model/anli-2k/roberta_base/coreset-50%/coreset-goddawg.npy"
   ]
  }
 ],
 "metadata": {
  "kernelspec": {
   "display_name": "env",
   "language": "python",
   "name": "python3"
  },
  "language_info": {
   "codemirror_mode": {
    "name": "ipython",
    "version": 3
   },
   "file_extension": ".py",
   "mimetype": "text/x-python",
   "name": "python",
   "nbconvert_exporter": "python",
   "pygments_lexer": "ipython3",
   "version": "3.11.0"
  }
 },
 "nbformat": 4,
 "nbformat_minor": 5
}
