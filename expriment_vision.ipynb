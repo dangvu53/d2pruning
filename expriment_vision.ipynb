{
 "cells": [
  {
   "cell_type": "code",
   "execution_count": null,
   "id": "daf7dcef",
   "metadata": {},
   "outputs": [
    {
     "name": "stdout",
     "output_type": "stream",
     "text": [
      "[WinError 2] The system cannot find the file specified: 'd2pruning/'\n",
      "d:\\Research\\d2pruning\n",
      "Dataset: tinyimagenet\n",
      "==================== Training Setting ====================\n",
      "Namespace(epochs=1, iterations=None, batch_size=32, lr=0.2, network='mobilenetv2', dataset='tinyimagenet', iterations_per_testing=800, data_dir='/d2pruning/', base_dir='./data-model/cifar100', task_name='all-data', coreset=False, coreset_only=False, coreset_mode=None, sampling_mode=None, budget_mode=None, data_score_path=None, bin_path=None, feature_path=None, coreset_key=None, data_score_descending=0, class_balanced=0, coreset_ratio=None, label_balanced=False, aucpr=False, stratas=50, graph_score=False, n_neighbor=10, gamma=-1, graph_mode='', graph_sampling_mode='', precomputed_dists='', precomputed_neighbors='', mis_key='accumulated_margin', mis_data_score_descending=0, mis_ratio=None, reversed_ratio=None, gpuid='0')\n",
      "==========================================================\n",
      "Last ckpt path: ./data-model/cifar100\\all-data\\ckpt-last.pt\n",
      "Data dir: /d2pruning/tinyimagenet\n"
     ]
    },
    {
     "name": "stderr",
     "output_type": "stream",
     "text": [
      "Traceback (most recent call last):\n",
      "  File \"d:\\Research\\d2pruning\\train.py\", line 139, in <module>\n",
      "    trainset = TinyImageNetDataset.get_tinyimagenet_train(data_dir)\n",
      "               ^^^^^^^^^^^^^^^^^^^^^^^^^^^^^^^^^^^^^^^^^^^^^^^^^^^^\n",
      "  File \"d:\\Research\\d2pruning\\core\\data\\MiscDataset.py\", line 169, in get_tinyimagenet_train\n",
      "    trainset = torchvision.datasets.ImageFolder(root=path, transform=transform)\n",
      "               ^^^^^^^^^^^^^^^^^^^^^^^^^^^^^^^^^^^^^^^^^^^^^^^^^^^^^^^^^^^^^^^^\n",
      "  File \"d:\\Research\\d2pruning\\env\\Lib\\site-packages\\torchvision\\datasets\\folder.py\", line 328, in __init__\n",
      "    super().__init__(\n",
      "  File \"d:\\Research\\d2pruning\\env\\Lib\\site-packages\\torchvision\\datasets\\folder.py\", line 149, in __init__\n",
      "    classes, class_to_idx = self.find_classes(self.root)\n",
      "                            ^^^^^^^^^^^^^^^^^^^^^^^^^^^^\n",
      "  File \"d:\\Research\\d2pruning\\env\\Lib\\site-packages\\torchvision\\datasets\\folder.py\", line 234, in find_classes\n",
      "    return find_classes(directory)\n",
      "           ^^^^^^^^^^^^^^^^^^^^^^^\n",
      "  File \"d:\\Research\\d2pruning\\env\\Lib\\site-packages\\torchvision\\datasets\\folder.py\", line 41, in find_classes\n",
      "    classes = sorted(entry.name for entry in os.scandir(directory) if entry.is_dir())\n",
      "                                             ^^^^^^^^^^^^^^^^^^^^^\n",
      "FileNotFoundError: [WinError 3] The system cannot find the path specified: '/d2pruning/tinyimagenet\\\\train'\n"
     ]
    }
   ],
   "source": [
    "# Train model on full dataset to extract training dynamics\n",
    "%cd d2pruning/\n",
    "!python train.py --dataset tinyimagenet  --gpuid 0 --epochs 10 --lr 0.1 --network resnet101 --batch-size 256 --task-name all-data \\\n",
    "    --base-dir ./data-model/tinyimagenet-5k \\\n",
    "    --data-dir /d2pruning"
   ]
  },
  {
   "cell_type": "code",
   "execution_count": null,
   "id": "c7c3331b",
   "metadata": {},
   "outputs": [],
   "source": [
    "# Get importance scores and sample embeddings\n",
    "%cd /kaggle/working/d2pruning/\n",
    "!python generate_importance_score.py --dataset tinyimagenet --gpuid 0 --network resnet101 \\\n",
    "    --base-dir ./data-model/cifar100 --task-name all-data --feature \\\n",
    "    --data-dir /d2pruning \\\n",
    "    --batch-size 256"
   ]
  },
  {
   "cell_type": "code",
   "execution_count": null,
   "id": "2046fda2",
   "metadata": {},
   "outputs": [],
   "source": [
    "# Select samples using D2 pruning and train ResNet 101 on the selected coreset\n",
    "N_NEIGHBOR=10\n",
    "GAMMA=0.8\n",
    "CORESET_RATIO=0.5\n",
    "\n",
    "%cd d2pruning/\n",
    "!python train.py --dataset tinyimagenet --gpuid 0 --network resnet101 --iterations 100 --task-name class-lb-graph-n=$N_NEIGHBOR-g=$GAMMA-$CORESET_RATIO \\\n",
    "    --base-dir ./data-model/tinyimagenet/class/ --coreset --coreset-mode class --budget-mode uniform --sampling-mode graph \\\n",
    "    --data-score-path ./data-model/tinyimagenet/all-data/data-score-all-data.pickle \\\n",
    "    --feature-path ./data-model/tinyimagenet/all-data/train-features-conv3-all-data.npy \\\n",
    "    --coreset-key forgetting --coreset-ratio $CORESET_RATIO --mis-ratio 0.4 --label-balanced \\\n",
    "    --n-neighbor $N_NEIGHBOR --gamma $GAMMA --stratas 25 --graph-mode sum --graph-sampling-mode  \\\n",
    "    --data-dir /d2pruning"
   ]
  },
  {
   "cell_type": "markdown",
   "id": "115e131f",
   "metadata": {},
   "source": [
    "Prun and train on 50% dataset"
   ]
  },
  {
   "cell_type": "code",
   "execution_count": null,
   "id": "ee667cee",
   "metadata": {},
   "outputs": [],
   "source": [
    "NEIGHBOR=10\n",
    "GAMMA=0.8\n",
    "CORESET_RATIO=0.5\n",
    "\n",
    "%cd d2pruning/\n",
    "!python train.py --dataset tinyimagenet --gpuid 0 --network mobilenetv2 --iterations 100 --task-name class-lb-graph-n=$N_NEIGHBOR-g=$GAMMA-$CORESET_RATIO \\\n",
    "    --base-dir ./data-model/tinyimagenet/class/ --coreset --coreset-mode class --budget-mode uniform --sampling-mode graph \\\n",
    "    --data-score-path ./data-model/tinyimagenet/all-data/data-score-all-data.pickle \\\n",
    "    --feature-path ./data-model/tinyimagenet/all-data/train-features-conv3-all-data.npy \\\n",
    "    --coreset-key forgetting --coreset-ratio $CORESET_RATIO --mis-ratio 0.4 --label-balanced \\\n",
    "    --n-neighbor $N_NEIGHBOR --gamma $GAMMA --stratas 25 --graph-mode sum --graph-sampling-mode weighted \\\n",
    "    --data-dir /d2pruning"
   ]
  },
  {
   "cell_type": "code",
   "execution_count": null,
   "id": "ce852995",
   "metadata": {},
   "outputs": [],
   "source": [
    "NEIGHBOR=10\n",
    "GAMMA=0.8\n",
    "CORESET_RATIO=0.5\n",
    "\n",
    "%cd d2pruning/\n",
    "!python train.py --dataset tinyimagenet --gpuid 0 --network efficientnet_b0 --iterations 100 --task-name class-lb-graph-n=$N_NEIGHBOR-g=$GAMMA-$CORESET_RATIO \\\n",
    "    --base-dir ./data-model/tinyimagenet/class/ --coreset --coreset-mode class --budget-mode uniform --sampling-mode graph \\\n",
    "    --data-score-path ./data-model/tinyimagenet/all-data/data-score-all-data.pickle \\\n",
    "    --feature-path ./data-model/tinyimagenet/all-data/train-features-conv3-all-data.npy \\\n",
    "    --coreset-key forgetting --coreset-ratio $CORESET_RATIO --mis-ratio 0.4 --label-balanced \\\n",
    "    --n-neighbor $N_NEIGHBOR --gamma $GAMMA --stratas 25 --graph-mode sum --graph-sampling-mode weighted \\\n",
    "    --data-dir /d2pruning"
   ]
  }
 ],
 "metadata": {
  "kernelspec": {
   "display_name": "env",
   "language": "python",
   "name": "python3"
  },
  "language_info": {
   "codemirror_mode": {
    "name": "ipython",
    "version": 3
   },
   "file_extension": ".py",
   "mimetype": "text/x-python",
   "name": "python",
   "nbconvert_exporter": "python",
   "pygments_lexer": "ipython3",
   "version": "3.11.0"
  }
 },
 "nbformat": 4,
 "nbformat_minor": 5
}
